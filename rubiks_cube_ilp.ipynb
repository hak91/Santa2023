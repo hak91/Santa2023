{
 "cells": [
  {
   "cell_type": "code",
   "execution_count": 6,
   "metadata": {},
   "outputs": [
    {
     "name": "stdout",
     "output_type": "stream",
     "text": [
      "Collecting pycuber\n",
      "  Downloading pycuber-0.2.2-py3-none-any.whl (23 kB)\n",
      "Installing collected packages: pycuber\n",
      "Successfully installed pycuber-0.2.2\n"
     ]
    },
    {
     "name": "stderr",
     "output_type": "stream",
     "text": [
      "\n",
      "[notice] A new release of pip available: 22.3.1 -> 23.3.2\n",
      "[notice] To update, run: python.exe -m pip install --upgrade pip\n"
     ]
    }
   ],
   "source": [
    "! pip install pycuber"
   ]
  },
  {
   "cell_type": "code",
   "execution_count": 8,
   "metadata": {},
   "outputs": [],
   "source": [
    "import pycuber as pc\n",
    "import numpy as np\n",
    "import itertools as it"
   ]
  },
  {
   "cell_type": "code",
   "execution_count": 9,
   "metadata": {},
   "outputs": [],
   "source": [
    "c = pc.Cube()"
   ]
  },
  {
   "cell_type": "code",
   "execution_count": 2,
   "metadata": {},
   "outputs": [],
   "source": [
    "cubes_idxs = np.zeros(shape=(6, 3, 3), dtype=int)\n",
    "counter = 1\n",
    "for i in range(3):\n",
    "    for j in range(3):\n",
    "        cubes_idxs[0, i, j] = counter\n",
    "        cubes_idxs[5, i, j] = counter + 45\n",
    "        counter += 1\n",
    "for j in range(3):\n",
    "    for k in range(4):\n",
    "        cubes_idxs[1+k, 0, j] = 10 + j + k*3\n",
    "        cubes_idxs[1+k, 1, j] = 10 + j + k*3 + 12\n",
    "        cubes_idxs[1+k, 2, j] = 10 + j + k*3 + 24\n",
    "faces = []\n",
    "for f in range(6):\n",
    "    faces.append([])\n",
    "    for i in range(3):\n",
    "        for j in range(3):\n",
    "            faces[f] += [cubes_idxs[f, i, j]]"
   ]
  },
  {
   "cell_type": "code",
   "execution_count": 4,
   "metadata": {},
   "outputs": [
    {
     "data": {
      "text/plain": [
       "[[1, 2, 3, 4, 5, 6, 7, 8, 9],\n",
       " [10, 11, 12, 22, 23, 24, 34, 35, 36],\n",
       " [13, 14, 15, 25, 26, 27, 37, 38, 39],\n",
       " [16, 17, 18, 28, 29, 30, 40, 41, 42],\n",
       " [19, 20, 21, 31, 32, 33, 43, 44, 45],\n",
       " [46, 47, 48, 49, 50, 51, 52, 53, 54]]"
      ]
     },
     "execution_count": 4,
     "metadata": {},
     "output_type": "execute_result"
    }
   ],
   "source": [
    "faces"
   ]
  },
  {
   "cell_type": "code",
   "execution_count": 16,
   "metadata": {},
   "outputs": [],
   "source": [
    "faces_letters = 'U L F R B D'.split()\n",
    "colors = ['red', 'yellow', 'green', 'white', 'orange', 'blue']\n",
    "init_pattern = []\n",
    "for face_idx, face in enumerate(faces_letters):\n",
    "    a = c.get_face(face)\n",
    "    for i in range(3):\n",
    "        for j in range(3):  \n",
    "            init_pattern += [(cubes_idxs[face_idx, i, j], colors.index(a[i][j].colour) + 1)]"
   ]
  },
  {
   "cell_type": "code",
   "execution_count": 14,
   "metadata": {},
   "outputs": [
    {
     "name": "stdout",
     "output_type": "stream",
     "text": [
      "B F U' S' D'\n"
     ]
    },
    {
     "data": {
      "text/plain": [
       "      \u001b[41m  \u001b[49m\u001b[43m  \u001b[49m\u001b[45m  \u001b[49m\n",
       "      \u001b[42m  \u001b[49m\u001b[41m  \u001b[49m\u001b[41m  \u001b[49m\n",
       "      \u001b[41m  \u001b[49m\u001b[43m  \u001b[49m\u001b[45m  \u001b[49m\n",
       "\u001b[46m  \u001b[49m\u001b[45m  \u001b[49m\u001b[46m  \u001b[49m\u001b[43m  \u001b[49m\u001b[45m  \u001b[49m\u001b[47m  \u001b[49m\u001b[42m  \u001b[49m\u001b[47m  \u001b[49m\u001b[42m  \u001b[49m\u001b[43m  \u001b[49m\u001b[41m  \u001b[49m\u001b[47m  \u001b[49m\n",
       "\u001b[43m  \u001b[49m\u001b[43m  \u001b[49m\u001b[47m  \u001b[49m\u001b[42m  \u001b[49m\u001b[42m  \u001b[49m\u001b[42m  \u001b[49m\u001b[43m  \u001b[49m\u001b[47m  \u001b[49m\u001b[47m  \u001b[49m\u001b[46m  \u001b[49m\u001b[46m  \u001b[49m\u001b[46m  \u001b[49m\n",
       "\u001b[42m  \u001b[49m\u001b[42m  \u001b[49m\u001b[42m  \u001b[49m\u001b[43m  \u001b[49m\u001b[47m  \u001b[49m\u001b[47m  \u001b[49m\u001b[46m  \u001b[49m\u001b[46m  \u001b[49m\u001b[46m  \u001b[49m\u001b[43m  \u001b[49m\u001b[41m  \u001b[49m\u001b[47m  \u001b[49m\n",
       "      \u001b[41m  \u001b[49m\u001b[45m  \u001b[49m\u001b[45m  \u001b[49m\n",
       "      \u001b[41m  \u001b[49m\u001b[45m  \u001b[49m\u001b[45m  \u001b[49m\n",
       "      \u001b[41m  \u001b[49m\u001b[46m  \u001b[49m\u001b[45m  \u001b[49m"
      ]
     },
     "execution_count": 14,
     "metadata": {},
     "output_type": "execute_result"
    }
   ],
   "source": [
    "moves_mapping = [\"B'\", \"B\", \"S\", \"S'\", \"F\", \"F'\", \"U'\", \"U\", \"E\", \"E'\", \"D\",\"D'\", \"L'\", \"L\", \"M'\", \"M\", \"R\", \"R'\"]\n",
    "c = pc.Cube()\n",
    "# random scramle\n",
    "alg = ' '.join(np.random.choice(moves_mapping, 5, replace=True))\n",
    "fc = c.copy()\n",
    "fc(alg)\n",
    "print(alg)\n",
    "c(alg)"
   ]
  },
  {
   "cell_type": "code",
   "execution_count": 17,
   "metadata": {},
   "outputs": [
    {
     "data": {
      "text/plain": [
       "[(1, 5),\n",
       " (2, 2),\n",
       " (3, 1),\n",
       " (4, 3),\n",
       " (5, 5),\n",
       " (6, 5),\n",
       " (7, 5),\n",
       " (8, 2),\n",
       " (9, 1),\n",
       " (10, 6),\n",
       " (11, 1),\n",
       " (12, 6),\n",
       " (22, 2),\n",
       " (23, 2),\n",
       " (24, 4),\n",
       " (34, 3),\n",
       " (35, 3),\n",
       " (36, 3),\n",
       " (13, 2),\n",
       " (14, 1),\n",
       " (15, 4),\n",
       " (25, 3),\n",
       " (26, 3),\n",
       " (27, 3),\n",
       " (37, 2),\n",
       " (38, 4),\n",
       " (39, 4),\n",
       " (16, 3),\n",
       " (17, 4),\n",
       " (18, 3),\n",
       " (28, 2),\n",
       " (29, 4),\n",
       " (30, 4),\n",
       " (40, 6),\n",
       " (41, 6),\n",
       " (42, 6),\n",
       " (19, 2),\n",
       " (20, 5),\n",
       " (21, 4),\n",
       " (31, 6),\n",
       " (32, 6),\n",
       " (33, 6),\n",
       " (43, 2),\n",
       " (44, 5),\n",
       " (45, 4),\n",
       " (46, 5),\n",
       " (47, 1),\n",
       " (48, 1),\n",
       " (49, 5),\n",
       " (50, 1),\n",
       " (51, 1),\n",
       " (52, 5),\n",
       " (53, 6),\n",
       " (54, 1)]"
      ]
     },
     "execution_count": 17,
     "metadata": {},
     "output_type": "execute_result"
    }
   ],
   "source": [
    "init_pattern"
   ]
  }
 ],
 "metadata": {
  "kernelspec": {
   "display_name": "base",
   "language": "python",
   "name": "python3"
  },
  "language_info": {
   "codemirror_mode": {
    "name": "ipython",
    "version": 3
   },
   "file_extension": ".py",
   "mimetype": "text/x-python",
   "name": "python",
   "nbconvert_exporter": "python",
   "pygments_lexer": "ipython3",
   "version": "3.9.7"
  }
 },
 "nbformat": 4,
 "nbformat_minor": 2
}
