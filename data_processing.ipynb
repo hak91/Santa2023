{
 "cells": [
  {
   "cell_type": "code",
   "execution_count": 2,
   "metadata": {},
   "outputs": [],
   "source": [
    "import pandas as pd\n",
    "from ast import literal_eval\n",
    "from sympy.combinatorics import Permutation\n",
    "from dataclasses import dataclass\n",
    "from typing import Dict, List\n"
   ]
  },
  {
   "cell_type": "code",
   "execution_count": 3,
   "metadata": {},
   "outputs": [],
   "source": [
    "puzzle_info_path = \"./data/puzzle_info.csv\"\n",
    "puzzles_path = \"./data/puzzles.csv\"\n",
    "sample_submission_path = \"./data/sample_submission.csv\"\n",
    "solutions_path = \"./solutions\""
   ]
  },
  {
   "cell_type": "code",
   "execution_count": 4,
   "metadata": {},
   "outputs": [],
   "source": [
    "puzzle_info = pd.read_csv(\"./data/puzzle_info.csv\", index_col='puzzle_type')\n",
    "all_allowed_moves = {}\n",
    "for idx, row in puzzle_info.iterrows():\n",
    "    moves = literal_eval(puzzle_info.loc[idx, 'allowed_moves'])\n",
    "    moves = {k: Permutation(v) for k, v in moves.items()}\n",
    "    all_allowed_moves[idx] = moves"
   ]
  },
  {
   "cell_type": "code",
   "execution_count": 5,
   "metadata": {},
   "outputs": [],
   "source": [
    "sample_submission = pd.read_csv(\"./data/sample_submission.csv\")\n",
    "puzzles = pd.read_csv(\"./data/puzzles.csv\")"
   ]
  },
  {
   "cell_type": "markdown",
   "metadata": {},
   "source": [
    "### Apply a solution and check"
   ]
  },
  {
   "cell_type": "markdown",
   "metadata": {},
   "source": [
    "**Module**"
   ]
  },
  {
   "cell_type": "code",
   "execution_count": 6,
   "metadata": {},
   "outputs": [],
   "source": [
    "@dataclass\n",
    "class Puzzle:\n",
    "    \"\"\"A permutation puzzle.\"\"\"\n",
    "\n",
    "    puzzle_id: str\n",
    "    solution_state: List[str]\n",
    "    initial_state: List[str]\n",
    "    num_wildcards: int\n",
    "\n",
    "class ParticipantVisibleError(Exception):\n",
    "    pass\n"
   ]
  },
  {
   "cell_type": "code",
   "execution_count": 7,
   "metadata": {},
   "outputs": [],
   "source": [
    "\n",
    "def score_puzzle(puzzle_id, puzzle, sub_solution):\n",
    "    \"\"\"Score the solution to a permutation puzzle.\"\"\"\n",
    "    # Apply submitted sequence of moves to the initial state, from left to right\n",
    "    moves = sub_solution.split('.')\n",
    "    state = puzzle.initial_state\n",
    "    for m in moves:\n",
    "        power = 1\n",
    "        if m[0] == \"-\":\n",
    "            m = m[1:]\n",
    "            power = -1\n",
    "        try:\n",
    "            p = all_allowed_moves[puzzle_id][m]\n",
    "        except KeyError:\n",
    "            raise ParticipantVisibleError(f\"{m} is not an allowed move for {puzzle_id}.\")\n",
    "        state = (p ** power)(state)\n",
    "\n",
    "    # Check that submitted moves solve puzzle\n",
    "    num_wrong_facelets = sum(not(s == t) for s, t in zip(puzzle.solution_state, state))\n",
    "    if num_wrong_facelets > puzzle.num_wildcards:\n",
    "        raise ParticipantVisibleError(f\"Submitted moves do not solve {puzzle_id}.\")\n",
    "\n",
    "    # The score for this instance is the total number of moves needed to solve the puzzle\n",
    "    return len(moves)"
   ]
  },
  {
   "cell_type": "markdown",
   "metadata": {},
   "source": [
    "**Code**"
   ]
  },
  {
   "cell_type": "code",
   "execution_count": 8,
   "metadata": {},
   "outputs": [
    {
     "ename": "KeyboardInterrupt",
     "evalue": "",
     "output_type": "error",
     "traceback": [
      "\u001b[1;31m---------------------------------------------------------------------------\u001b[0m",
      "\u001b[1;31mKeyboardInterrupt\u001b[0m                         Traceback (most recent call last)",
      "\u001b[1;32m~\\AppData\\Local\\Temp/ipykernel_40776/2939885509.py\u001b[0m in \u001b[0;36m<module>\u001b[1;34m\u001b[0m\n\u001b[0;32m     14\u001b[0m \u001b[1;33m\u001b[0m\u001b[0m\n\u001b[0;32m     15\u001b[0m         \u001b[1;31m# Score submission row\u001b[0m\u001b[1;33m\u001b[0m\u001b[1;33m\u001b[0m\u001b[0m\n\u001b[1;32m---> 16\u001b[1;33m     \u001b[0mnum_moves\u001b[0m \u001b[1;33m=\u001b[0m \u001b[0mscore_puzzle\u001b[0m\u001b[1;33m(\u001b[0m\u001b[0mpuzzle_type\u001b[0m\u001b[1;33m,\u001b[0m \u001b[0mpuzzle\u001b[0m\u001b[1;33m,\u001b[0m \u001b[0mgetattr\u001b[0m\u001b[1;33m(\u001b[0m\u001b[0msolution_row\u001b[0m\u001b[1;33m,\u001b[0m \u001b[1;34m\"moves\"\u001b[0m\u001b[1;33m)\u001b[0m\u001b[1;33m)\u001b[0m\u001b[1;33m\u001b[0m\u001b[1;33m\u001b[0m\u001b[0m\n\u001b[0m\u001b[0;32m     17\u001b[0m     \u001b[0mtotal_num_moves\u001b[0m \u001b[1;33m+=\u001b[0m \u001b[0mnum_moves\u001b[0m\u001b[1;33m\u001b[0m\u001b[1;33m\u001b[0m\u001b[0m\n",
      "\u001b[1;32m~\\AppData\\Local\\Temp/ipykernel_40776/2598646124.py\u001b[0m in \u001b[0;36mscore_puzzle\u001b[1;34m(puzzle_id, puzzle, sub_solution)\u001b[0m\n\u001b[0;32m     13\u001b[0m         \u001b[1;32mexcept\u001b[0m \u001b[0mKeyError\u001b[0m\u001b[1;33m:\u001b[0m\u001b[1;33m\u001b[0m\u001b[1;33m\u001b[0m\u001b[0m\n\u001b[0;32m     14\u001b[0m             \u001b[1;32mraise\u001b[0m \u001b[0mParticipantVisibleError\u001b[0m\u001b[1;33m(\u001b[0m\u001b[1;34mf\"{m} is not an allowed move for {puzzle_id}.\"\u001b[0m\u001b[1;33m)\u001b[0m\u001b[1;33m\u001b[0m\u001b[1;33m\u001b[0m\u001b[0m\n\u001b[1;32m---> 15\u001b[1;33m         \u001b[0mstate\u001b[0m \u001b[1;33m=\u001b[0m \u001b[1;33m(\u001b[0m\u001b[0mp\u001b[0m \u001b[1;33m**\u001b[0m \u001b[0mpower\u001b[0m\u001b[1;33m)\u001b[0m\u001b[1;33m(\u001b[0m\u001b[0mstate\u001b[0m\u001b[1;33m)\u001b[0m\u001b[1;33m\u001b[0m\u001b[1;33m\u001b[0m\u001b[0m\n\u001b[0m\u001b[0;32m     16\u001b[0m \u001b[1;33m\u001b[0m\u001b[0m\n\u001b[0;32m     17\u001b[0m     \u001b[1;31m# Check that submitted moves solve puzzle\u001b[0m\u001b[1;33m\u001b[0m\u001b[1;33m\u001b[0m\u001b[0m\n",
      "\u001b[1;32mc:\\Users\\hussain\\Anaconda3\\lib\\site-packages\\sympy\\combinatorics\\permutations.py\u001b[0m in \u001b[0;36m__call__\u001b[1;34m(self, *i)\u001b[0m\n\u001b[0;32m   1641\u001b[0m                 raise TypeError(\n\u001b[0;32m   1642\u001b[0m                     \"{} should have the length {}.\".format(i, self.size))\n\u001b[1;32m-> 1643\u001b[1;33m             \u001b[1;32mreturn\u001b[0m \u001b[1;33m[\u001b[0m\u001b[0mi\u001b[0m\u001b[1;33m[\u001b[0m\u001b[0mj\u001b[0m\u001b[1;33m]\u001b[0m \u001b[1;32mfor\u001b[0m \u001b[0mj\u001b[0m \u001b[1;32min\u001b[0m \u001b[0mself\u001b[0m\u001b[1;33m.\u001b[0m\u001b[0m_array_form\u001b[0m\u001b[1;33m]\u001b[0m\u001b[1;33m\u001b[0m\u001b[1;33m\u001b[0m\u001b[0m\n\u001b[0m\u001b[0;32m   1644\u001b[0m         \u001b[1;31m# P(1, 2, 3)\u001b[0m\u001b[1;33m\u001b[0m\u001b[1;33m\u001b[0m\u001b[0m\n\u001b[0;32m   1645\u001b[0m         \u001b[1;32mreturn\u001b[0m \u001b[0mself\u001b[0m\u001b[1;33m*\u001b[0m\u001b[0mPermutation\u001b[0m\u001b[1;33m(\u001b[0m\u001b[0mCycle\u001b[0m\u001b[1;33m(\u001b[0m\u001b[1;33m*\u001b[0m\u001b[0mi\u001b[0m\u001b[1;33m)\u001b[0m\u001b[1;33m,\u001b[0m \u001b[0msize\u001b[0m\u001b[1;33m=\u001b[0m\u001b[0mself\u001b[0m\u001b[1;33m.\u001b[0m\u001b[0msize\u001b[0m\u001b[1;33m)\u001b[0m\u001b[1;33m\u001b[0m\u001b[1;33m\u001b[0m\u001b[0m\n",
      "\u001b[1;32mc:\\Users\\hussain\\Anaconda3\\lib\\site-packages\\sympy\\combinatorics\\permutations.py\u001b[0m in \u001b[0;36m<listcomp>\u001b[1;34m(.0)\u001b[0m\n\u001b[0;32m   1641\u001b[0m                 raise TypeError(\n\u001b[0;32m   1642\u001b[0m                     \"{} should have the length {}.\".format(i, self.size))\n\u001b[1;32m-> 1643\u001b[1;33m             \u001b[1;32mreturn\u001b[0m \u001b[1;33m[\u001b[0m\u001b[0mi\u001b[0m\u001b[1;33m[\u001b[0m\u001b[0mj\u001b[0m\u001b[1;33m]\u001b[0m \u001b[1;32mfor\u001b[0m \u001b[0mj\u001b[0m \u001b[1;32min\u001b[0m \u001b[0mself\u001b[0m\u001b[1;33m.\u001b[0m\u001b[0m_array_form\u001b[0m\u001b[1;33m]\u001b[0m\u001b[1;33m\u001b[0m\u001b[1;33m\u001b[0m\u001b[0m\n\u001b[0m\u001b[0;32m   1644\u001b[0m         \u001b[1;31m# P(1, 2, 3)\u001b[0m\u001b[1;33m\u001b[0m\u001b[1;33m\u001b[0m\u001b[0m\n\u001b[0;32m   1645\u001b[0m         \u001b[1;32mreturn\u001b[0m \u001b[0mself\u001b[0m\u001b[1;33m*\u001b[0m\u001b[0mPermutation\u001b[0m\u001b[1;33m(\u001b[0m\u001b[0mCycle\u001b[0m\u001b[1;33m(\u001b[0m\u001b[1;33m*\u001b[0m\u001b[0mi\u001b[0m\u001b[1;33m)\u001b[0m\u001b[1;33m,\u001b[0m \u001b[0msize\u001b[0m\u001b[1;33m=\u001b[0m\u001b[0mself\u001b[0m\u001b[1;33m.\u001b[0m\u001b[0msize\u001b[0m\u001b[1;33m)\u001b[0m\u001b[1;33m\u001b[0m\u001b[1;33m\u001b[0m\u001b[0m\n",
      "\u001b[1;31mKeyboardInterrupt\u001b[0m: "
     ]
    }
   ],
   "source": [
    "submission = pd.read_csv(sample_submission_path)\n",
    "puzzles = pd.read_csv(puzzles_path)\n",
    "total_num_moves = 0\n",
    "for puzzle_row, solution_row in zip(puzzles.itertuples(), submission.itertuples()):\n",
    "    puzzle_id = getattr(puzzle_row, \"id\")\n",
    "    assert puzzle_id == getattr(solution_row, \"id\")\n",
    "    puzzle_type = getattr(puzzle_row, \"puzzle_type\")\n",
    "    puzzle = Puzzle(\n",
    "        puzzle_id=puzzle_type,\n",
    "        solution_state=puzzle_row.solution_state.split(';'),\n",
    "        initial_state=puzzle_row.initial_state.split(';'),\n",
    "        num_wildcards=puzzle_row.num_wildcards,\n",
    "    )\n",
    "\n",
    "        # Score submission row\n",
    "    num_moves = score_puzzle(puzzle_type, puzzle, getattr(solution_row, \"moves\"))\n",
    "    total_num_moves += num_moves"
   ]
  },
  {
   "cell_type": "code",
   "execution_count": null,
   "metadata": {},
   "outputs": [],
   "source": [
    "total_num_moves"
   ]
  },
  {
   "cell_type": "markdown",
   "metadata": {},
   "source": [
    "## DFS"
   ]
  },
  {
   "cell_type": "code",
   "execution_count": 9,
   "metadata": {},
   "outputs": [],
   "source": [
    "nodes = [(puzzle.initial_state, [])]"
   ]
  },
  {
   "cell_type": "code",
   "execution_count": 10,
   "metadata": {},
   "outputs": [
    {
     "name": "stdout",
     "output_type": "stream",
     "text": [
      "['A', 'A', 'A', 'A', 'B', 'B', 'B', 'B', 'C', 'C', 'C', 'C', 'D', 'D', 'D', 'D', 'E', 'E', 'E', 'E', 'F', 'F', 'F', 'F']\n",
      "['D', 'E', 'D', 'A', 'E', 'B', 'A', 'B', 'C', 'A', 'C', 'A', 'D', 'C', 'D', 'F', 'F', 'F', 'E', 'E', 'B', 'F', 'B', 'C']\n"
     ]
    }
   ],
   "source": [
    "print(puzzles.loc[0].solution_state.split(';'))\n",
    "print(puzzles.loc[0].initial_state.split(';'))"
   ]
  },
  {
   "cell_type": "code",
   "execution_count": 61,
   "metadata": {},
   "outputs": [
    {
     "ename": "KeyboardInterrupt",
     "evalue": "",
     "output_type": "error",
     "traceback": [
      "\u001b[1;31m---------------------------------------------------------------------------\u001b[0m",
      "\u001b[1;31mKeyboardInterrupt\u001b[0m                         Traceback (most recent call last)",
      "\u001b[1;32m~\\AppData\\Local\\Temp/ipykernel_36140/3623595525.py\u001b[0m in \u001b[0;36m<module>\u001b[1;34m\u001b[0m\n\u001b[0;32m     28\u001b[0m         \u001b[0msolution_found\u001b[0m \u001b[1;33m=\u001b[0m \u001b[1;32mTrue\u001b[0m\u001b[1;33m\u001b[0m\u001b[1;33m\u001b[0m\u001b[0m\n\u001b[0;32m     29\u001b[0m     \u001b[0mmoves\u001b[0m \u001b[1;33m=\u001b[0m \u001b[0mall_allowed_moves\u001b[0m\u001b[1;33m[\u001b[0m\u001b[0mpuzzle\u001b[0m\u001b[1;33m.\u001b[0m\u001b[0mpuzzle_id\u001b[0m\u001b[1;33m]\u001b[0m\u001b[1;33m\u001b[0m\u001b[1;33m\u001b[0m\u001b[0m\n\u001b[1;32m---> 30\u001b[1;33m     \u001b[1;32mfor\u001b[0m \u001b[0mm\u001b[0m\u001b[1;33m,\u001b[0m \u001b[0mperm\u001b[0m \u001b[1;32min\u001b[0m \u001b[0mmoves\u001b[0m\u001b[1;33m.\u001b[0m\u001b[0mitems\u001b[0m\u001b[1;33m(\u001b[0m\u001b[1;33m)\u001b[0m\u001b[1;33m:\u001b[0m\u001b[1;33m\u001b[0m\u001b[1;33m\u001b[0m\u001b[0m\n\u001b[0m\u001b[0;32m     31\u001b[0m         \u001b[1;32mif\u001b[0m \u001b[0mlen\u001b[0m\u001b[1;33m(\u001b[0m\u001b[0mmoves_seq\u001b[0m\u001b[1;33m)\u001b[0m \u001b[1;33m>\u001b[0m \u001b[1;36m0\u001b[0m \u001b[1;32mand\u001b[0m \u001b[1;33m(\u001b[0m\u001b[0mm\u001b[0m \u001b[1;33m==\u001b[0m \u001b[0mmoves_seq\u001b[0m\u001b[1;33m[\u001b[0m\u001b[1;33m-\u001b[0m\u001b[1;36m1\u001b[0m\u001b[1;33m]\u001b[0m \u001b[1;32mor\u001b[0m \u001b[1;34m\"-\"\u001b[0m\u001b[1;33m+\u001b[0m\u001b[0mm\u001b[0m \u001b[1;33m==\u001b[0m \u001b[0mmoves_seq\u001b[0m\u001b[1;33m[\u001b[0m\u001b[1;33m-\u001b[0m\u001b[1;36m1\u001b[0m\u001b[1;33m]\u001b[0m\u001b[1;33m)\u001b[0m\u001b[1;33m:\u001b[0m\u001b[1;33m\u001b[0m\u001b[1;33m\u001b[0m\u001b[0m\n\u001b[0;32m     32\u001b[0m             \u001b[1;32mcontinue\u001b[0m\u001b[1;33m\u001b[0m\u001b[1;33m\u001b[0m\u001b[0m\n",
      "\u001b[1;31mKeyboardInterrupt\u001b[0m: "
     ]
    }
   ],
   "source": [
    "# puzzle = Puzzle(\n",
    "#         puzzle_id=\"cube_2/2/2\",\n",
    "#         solution_state=['A', 'A', 'A', 'A', 'B', 'B', 'B', 'B', 'C', 'C', 'C', 'C', 'D', 'D', 'D', 'D', 'E', 'E', 'E', 'E', 'F', 'F', 'F', 'F'],\n",
    "#         initial_state=['D', 'E', 'D', 'A', 'E', 'B', 'A', 'B', 'C', 'A', 'C', 'A', 'D', 'C', 'D', 'F', 'F', 'F', 'E', 'E', 'B', 'F', 'B', 'C'],\n",
    "#         num_wildcards=0\n",
    "#     )\n",
    "puzzle = Puzzle(\n",
    "        puzzle_id=\"cube_2/2/2\",\n",
    "        solution_state=\"A;A;A;A;B;B;B;B;C;C;C;C;D;D;D;D;E;E;E;E;F;F;F;F\".split(\";\"),\n",
    "        initial_state=\"D;E;C;B;B;E;F;A;F;D;B;F;F;E;B;D;A;A;C;D;C;E;A;C\".split(\";\"),\n",
    "        num_wildcards=0\n",
    "    )\n",
    "num_wrong_facelets = sum(not(s == t) for s, t in zip(puzzle.solution_state, puzzle.initial_state))\n",
    "nodes = [(puzzle.initial_state, tuple(), num_wrong_facelets)]\n",
    "iterations = 0\n",
    "best_sol_for_state = dict()\n",
    "best_upper_bound = 63\n",
    "def get_deviation(e):\n",
    "    return -e[-1]\n",
    "while len(nodes):\n",
    "    solution_found = False\n",
    "    # nodes.sort(key = get_deviation)\n",
    "    cur_state, moves_seq, num_wrong_facelets = nodes.pop()\n",
    "    num_wrong_facelets = sum(not(s == t) for s, t in zip(puzzle.solution_state, cur_state))\n",
    "    if num_wrong_facelets <= puzzle.num_wildcards:\n",
    "        print(\"Solution Found.\")\n",
    "        print(moves_seq)\n",
    "        solution_found = True\n",
    "    moves = all_allowed_moves[puzzle.puzzle_id]\n",
    "    for m, perm in moves.items():\n",
    "        if len(moves_seq) > 0 and (m == moves_seq[-1] or \"-\"+m == moves_seq[-1]):\n",
    "            continue\n",
    "        state = (perm)(cur_state)\n",
    "        new_moves_seq = moves_seq + (m,)\n",
    "        num_wrong_facelets = sum(not(s == t) for s, t in zip(puzzle.solution_state, state))\n",
    "        if num_wrong_facelets <= puzzle.num_wildcards:\n",
    "            print(\"Solution Found.\")\n",
    "            print(new_moves_seq)\n",
    "            solution_found = True\n",
    "        flag = True\n",
    "        if tuple(state) in best_sol_for_state:\n",
    "            if best_sol_for_state[tuple(state)] < len(new_moves_seq) or len(new_moves_seq) > best_upper_bound:\n",
    "                flag = False\n",
    "        if flag:\n",
    "            if len(new_moves_seq) <= best_upper_bound:\n",
    "                nodes.append((state, new_moves_seq, num_wrong_facelets))\n",
    "                best_sol_for_state[tuple(state)] = len(new_moves_seq)\n",
    "                iterations += 1\n",
    "        state = (perm ** -1)(cur_state)\n",
    "        new_moves_seq = moves_seq + (\"-\"+m,)\n",
    "        num_wrong_facelets = sum(not(s == t) for s, t in zip(puzzle.solution_state, state))\n",
    "        if num_wrong_facelets <= puzzle.num_wildcards:\n",
    "            print(\"Solution Found.\")\n",
    "            print(new_moves_seq)\n",
    "            solution_found = True\n",
    "        flag = True\n",
    "\n",
    "        if tuple(state) in best_sol_for_state:\n",
    "            if best_sol_for_state[tuple(state)] < len(new_moves_seq) or len(new_moves_seq) > best_upper_bound:\n",
    "                flag = False\n",
    "        if flag:\n",
    "            if len(new_moves_seq) <= best_upper_bound:\n",
    "                nodes.append((state, new_moves_seq, num_wrong_facelets))\n",
    "                best_sol_for_state[tuple(state)] = len(new_moves_seq)\n",
    "                iterations += 1\n",
    "    # if(iterations > 10000000):\n",
    "    #     print(f\"Limit exceeded: {iterations}\")\n",
    "    if(solution_found):\n",
    "        print(f\"Iterations: {iterations}\")\n",
    "        break"
   ]
  },
  {
   "cell_type": "code",
   "execution_count": 64,
   "metadata": {},
   "outputs": [
    {
     "data": {
      "text/plain": [
       "484"
      ]
     },
     "execution_count": 64,
     "metadata": {},
     "output_type": "execute_result"
    }
   ],
   "source": [
    "len(nodes)"
   ]
  },
  {
   "cell_type": "code",
   "execution_count": 56,
   "metadata": {},
   "outputs": [
    {
     "data": {
      "text/plain": [
       "543"
      ]
     },
     "execution_count": 56,
     "metadata": {},
     "output_type": "execute_result"
    }
   ],
   "source": [
    "len(nodes)"
   ]
  },
  {
   "cell_type": "markdown",
   "metadata": {},
   "source": [
    "## BFS"
   ]
  },
  {
   "cell_type": "code",
   "execution_count": 13,
   "metadata": {},
   "outputs": [
    {
     "ename": "KeyboardInterrupt",
     "evalue": "",
     "output_type": "error",
     "traceback": [
      "\u001b[1;31m---------------------------------------------------------------------------\u001b[0m",
      "\u001b[1;31mKeyboardInterrupt\u001b[0m                         Traceback (most recent call last)",
      "\u001b[1;32m~\\AppData\\Local\\Temp/ipykernel_40776/2840758994.py\u001b[0m in \u001b[0;36m<module>\u001b[1;34m\u001b[0m\n\u001b[0;32m     49\u001b[0m         \u001b[0mstate\u001b[0m \u001b[1;33m=\u001b[0m \u001b[1;33m(\u001b[0m\u001b[0mperm\u001b[0m \u001b[1;33m**\u001b[0m \u001b[1;33m-\u001b[0m\u001b[1;36m1\u001b[0m\u001b[1;33m)\u001b[0m\u001b[1;33m(\u001b[0m\u001b[0mcur_state\u001b[0m\u001b[1;33m)\u001b[0m\u001b[1;33m\u001b[0m\u001b[1;33m\u001b[0m\u001b[0m\n\u001b[0;32m     50\u001b[0m         \u001b[0mnew_moves_seq\u001b[0m \u001b[1;33m=\u001b[0m \u001b[0mmoves_seq\u001b[0m \u001b[1;33m+\u001b[0m \u001b[1;33m(\u001b[0m\u001b[1;34m\"-\"\u001b[0m\u001b[1;33m+\u001b[0m\u001b[0mm\u001b[0m\u001b[1;33m,\u001b[0m\u001b[1;33m)\u001b[0m\u001b[1;33m\u001b[0m\u001b[1;33m\u001b[0m\u001b[0m\n\u001b[1;32m---> 51\u001b[1;33m         \u001b[0mnum_wrong_facelets\u001b[0m \u001b[1;33m=\u001b[0m \u001b[0msum\u001b[0m\u001b[1;33m(\u001b[0m\u001b[1;32mnot\u001b[0m\u001b[1;33m(\u001b[0m\u001b[0ms\u001b[0m \u001b[1;33m==\u001b[0m \u001b[0mt\u001b[0m\u001b[1;33m)\u001b[0m \u001b[1;32mfor\u001b[0m \u001b[0ms\u001b[0m\u001b[1;33m,\u001b[0m \u001b[0mt\u001b[0m \u001b[1;32min\u001b[0m \u001b[0mzip\u001b[0m\u001b[1;33m(\u001b[0m\u001b[0mpuzzle\u001b[0m\u001b[1;33m.\u001b[0m\u001b[0msolution_state\u001b[0m\u001b[1;33m,\u001b[0m \u001b[0mstate\u001b[0m\u001b[1;33m)\u001b[0m\u001b[1;33m)\u001b[0m\u001b[1;33m\u001b[0m\u001b[1;33m\u001b[0m\u001b[0m\n\u001b[0m\u001b[0;32m     52\u001b[0m         \u001b[1;32mif\u001b[0m \u001b[0mnum_wrong_facelets\u001b[0m \u001b[1;33m<=\u001b[0m \u001b[0mpuzzle\u001b[0m\u001b[1;33m.\u001b[0m\u001b[0mnum_wildcards\u001b[0m\u001b[1;33m:\u001b[0m\u001b[1;33m\u001b[0m\u001b[1;33m\u001b[0m\u001b[0m\n\u001b[0;32m     53\u001b[0m             \u001b[0mprint\u001b[0m\u001b[1;33m(\u001b[0m\u001b[1;34m\"Solution Found.\"\u001b[0m\u001b[1;33m)\u001b[0m\u001b[1;33m\u001b[0m\u001b[1;33m\u001b[0m\u001b[0m\n",
      "\u001b[1;31mKeyboardInterrupt\u001b[0m: "
     ]
    }
   ],
   "source": [
    "# puzzle = Puzzle(\n",
    "#         puzzle_id=\"cube_2/2/2\",\n",
    "#         solution_state=['A', 'A', 'A', 'A', 'B', 'B', 'B', 'B', 'C', 'C', 'C', 'C', 'D', 'D', 'D', 'D', 'E', 'E', 'E', 'E', 'F', 'F', 'F', 'F'],\n",
    "#         initial_state=['D', 'E', 'D', 'A', 'E', 'B', 'A', 'B', 'C', 'A', 'C', 'A', 'D', 'C', 'D', 'F', 'F', 'F', 'E', 'E', 'B', 'F', 'B', 'C'],\n",
    "#         num_wildcards=0\n",
    "#     )\n",
    "puzzle = Puzzle(\n",
    "        puzzle_id=\"cube_2/2/2\",\n",
    "        solution_state=\"A;A;A;A;B;B;B;B;C;C;C;C;D;D;D;D;E;E;E;E;F;F;F;F\".split(\";\"),\n",
    "        initial_state=\"D;E;C;B;B;E;F;A;F;D;B;F;F;E;B;D;A;A;C;D;C;E;A;C\".split(\";\"),\n",
    "        num_wildcards=0\n",
    "    )\n",
    "num_wrong_facelets = sum(not(s == t) for s, t in zip(puzzle.solution_state, puzzle.initial_state))\n",
    "nodes = [(puzzle.initial_state, tuple(), num_wrong_facelets)]\n",
    "iterations = 0\n",
    "best_sol_for_state = dict()\n",
    "best_upper_bound = 63\n",
    "def get_deviation(e):\n",
    "    return -e[-1]\n",
    "while len(nodes):\n",
    "    solution_found = False\n",
    "    # nodes.sort(key = get_deviation)\n",
    "    cur_state, moves_seq, num_wrong_facelets = nodes.pop(0)\n",
    "    num_wrong_facelets = sum(not(s == t) for s, t in zip(puzzle.solution_state, cur_state))\n",
    "    if num_wrong_facelets <= puzzle.num_wildcards:\n",
    "        print(\"Solution Found.\")\n",
    "        print(moves_seq)\n",
    "        solution_found = True\n",
    "    moves = all_allowed_moves[puzzle.puzzle_id]\n",
    "    for m, perm in moves.items():\n",
    "        if len(moves_seq) > 0 and (m == moves_seq[-1] or \"-\"+m == moves_seq[-1]):\n",
    "            continue\n",
    "        state = (perm)(cur_state)\n",
    "        new_moves_seq = moves_seq + (m,)\n",
    "        num_wrong_facelets = sum(not(s == t) for s, t in zip(puzzle.solution_state, state))\n",
    "        if num_wrong_facelets <= puzzle.num_wildcards:\n",
    "            print(\"Solution Found.\")\n",
    "            print(new_moves_seq)\n",
    "            solution_found = True\n",
    "        flag = True\n",
    "        if tuple(state) in best_sol_for_state:\n",
    "            if best_sol_for_state[tuple(state)] < len(new_moves_seq) or len(new_moves_seq) > best_upper_bound:\n",
    "                flag = False\n",
    "        if flag:\n",
    "            if len(new_moves_seq) <= best_upper_bound:\n",
    "                nodes.append((state, new_moves_seq, num_wrong_facelets))\n",
    "                best_sol_for_state[tuple(state)] = len(new_moves_seq)\n",
    "                iterations += 1\n",
    "        state = (perm ** -1)(cur_state)\n",
    "        new_moves_seq = moves_seq + (\"-\"+m,)\n",
    "        num_wrong_facelets = sum(not(s == t) for s, t in zip(puzzle.solution_state, state))\n",
    "        if num_wrong_facelets <= puzzle.num_wildcards:\n",
    "            print(\"Solution Found.\")\n",
    "            print(new_moves_seq)\n",
    "            solution_found = True\n",
    "        flag = True\n",
    "\n",
    "        if tuple(state) in best_sol_for_state:\n",
    "            if best_sol_for_state[tuple(state)] < len(new_moves_seq) or len(new_moves_seq) > best_upper_bound:\n",
    "                flag = False\n",
    "        if flag:\n",
    "            if len(new_moves_seq) <= best_upper_bound:\n",
    "                nodes.append((state, new_moves_seq, num_wrong_facelets))\n",
    "                best_sol_for_state[tuple(state)] = len(new_moves_seq)\n",
    "                iterations += 1\n",
    "    # if(iterations > 10000000):\n",
    "    #     print(f\"Limit exceeded: {iterations}\")\n",
    "    if(solution_found):\n",
    "        print(f\"Iterations: {iterations}\")\n",
    "        break"
   ]
  },
  {
   "cell_type": "code",
   "execution_count": 22,
   "metadata": {},
   "outputs": [
    {
     "name": "stdout",
     "output_type": "stream",
     "text": [
      "['A', 'A', 'A', 'A', 'B', 'B', 'B', 'B', 'C', 'C', 'C', 'C', 'D', 'D', 'D', 'D', 'E', 'E', 'E', 'E', 'F', 'F', 'F', 'F']\n",
      "['A', 'A', 'E', 'E', 'B', 'B', 'B', 'B', 'A', 'C', 'A', 'C', 'D', 'D', 'D', 'D', 'E', 'F', 'E', 'F', 'C', 'C', 'F', 'F']\n",
      "(23)(2 19 21 8)(3 17 20 10)(4 6 7 5)\n"
     ]
    }
   ],
   "source": [
    "x = \"A;A;A;A;B;B;B;B;C;C;C;C;D;D;D;D;E;E;E;E;F;F;F;F\".split(\";\")\n",
    "y = (all_allowed_moves['cube_2/2/2']['f0'])(x)\n",
    "print(x)\n",
    "print(y)\n",
    "print(all_allowed_moves['cube_2/2/2']['f0'])"
   ]
  }
 ],
 "metadata": {
  "kernelspec": {
   "display_name": "base",
   "language": "python",
   "name": "python3"
  },
  "language_info": {
   "codemirror_mode": {
    "name": "ipython",
    "version": 3
   },
   "file_extension": ".py",
   "mimetype": "text/x-python",
   "name": "python",
   "nbconvert_exporter": "python",
   "pygments_lexer": "ipython3",
   "version": "3.9.7"
  }
 },
 "nbformat": 4,
 "nbformat_minor": 2
}
